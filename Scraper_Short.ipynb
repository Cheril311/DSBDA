{
 "cells": [
  {
   "cell_type": "code",
   "execution_count": 1,
   "id": "23ffa02f",
   "metadata": {},
   "outputs": [
    {
     "name": "stdout",
     "output_type": "stream",
     "text": [
      "Collecting bs4\n",
      "  Downloading bs4-0.0.1.tar.gz (1.1 kB)\n",
      "  Preparing metadata (setup.py) ... \u001b[?25ldone\n",
      "\u001b[?25hRequirement already satisfied: beautifulsoup4 in ./opt/anaconda3/envs/tfm/lib/python3.9/site-packages (from bs4) (4.8.2)\n",
      "Requirement already satisfied: soupsieve>=1.2 in ./opt/anaconda3/envs/tfm/lib/python3.9/site-packages (from beautifulsoup4->bs4) (2.3.2.post1)\n",
      "Building wheels for collected packages: bs4\n",
      "  Building wheel for bs4 (setup.py) ... \u001b[?25ldone\n",
      "\u001b[?25h  Created wheel for bs4: filename=bs4-0.0.1-py3-none-any.whl size=1257 sha256=f44213e4714ded5a69459123e07997f6ea4ef902aa83c41c7a562edc63e6c727\n",
      "  Stored in directory: /Users/cheril/Library/Caches/pip/wheels/8b/ac/c5/cb646ab01df6f353a9994b1c97dffb94f9b12013d64c162c58\n",
      "Successfully built bs4\n",
      "Installing collected packages: bs4\n",
      "Successfully installed bs4-0.0.1\n"
     ]
    }
   ],
   "source": [
    "!pip install bs4"
   ]
  },
  {
   "cell_type": "code",
   "execution_count": 110,
   "id": "295e47a8",
   "metadata": {},
   "outputs": [],
   "source": [
    "# import module\n",
    "import requests\n",
    "from bs4 import BeautifulSoup\n",
    "\n",
    "HEADERS = ({'User-Agent':\n",
    "\t\t\t'Mozilla/5.0 (Windows NT 10.0; Win64; x64) \\\n",
    "\t\t\tAppleWebKit/537.36 (KHTML, like Gecko) \\\n",
    "\t\t\tChrome/90.0.4430.212 Safari/537.36',\n",
    "\t\t\t'Accept-Language': 'en-US, en;q=0.5'})\n",
    "\n",
    "# user define function\n",
    "# Scrape the data\n",
    "def getdata(url):\n",
    "\tr = requests.get(url, headers=HEADERS)\n",
    "\treturn r.text\n",
    "\n",
    "\n",
    "def html_code(url):\n",
    "\n",
    "\t# pass the url\n",
    "\t# into getdata function\n",
    "\thtmldata = getdata(url)\n",
    "\tsoup = BeautifulSoup(htmldata, 'html.parser')\n",
    "\n",
    "\t# display html code\n",
    "\treturn (soup)\n",
    "\n",
    "\n",
    "url = \"https://www.amazon.in/Echo-Dot-3rd-Gen/product-reviews/B07PFFMP9P/ref=cm_cr_dp_d_show_all_btm?ie=UTF8&reviewerType=all_reviews\"\n",
    "\n",
    "soup = html_code(url)\n"
   ]
  },
  {
   "cell_type": "code",
   "execution_count": 137,
   "id": "74163d25",
   "metadata": {},
   "outputs": [
    {
     "name": "stdout",
     "output_type": "stream",
     "text": [
      "10\n",
      "10\n",
      "10\n"
     ]
    }
   ],
   "source": [
    "review_divs = soup.find_all(\"span\", attrs={\"data-hook\": \"review-body\"})\n",
    "\n",
    "reviews = []\n",
    "\n",
    "for div in review_divs:\n",
    "    review = div.find(\"span\").text.strip()\n",
    "    reviews.append(review)\n",
    "print(len(reviews))\n",
    "\n",
    "\n",
    "\n",
    "title_divsm = soup.find_all(\"a\", attrs={\"data-hook\": \"review-title\"})\n",
    "\n",
    "titlesm = []\n",
    "\n",
    "for div in title_divsm:\n",
    "    title = div.find(\"span\").text.strip()\n",
    "    titlesm.append(title)\n",
    "    \n",
    "\n",
    "print(len(titlesm))\n",
    "\n",
    "rating_div = soup.find_all(\"i\", attrs={\"data-hook\": \"review-star-rating\"})\n",
    "\n",
    "ratings = []\n",
    "\n",
    "for div in rating_div:\n",
    "    rating = div.find(\"span\").text.strip()\n",
    "    ratings.append(rating)\n",
    "\n",
    "print(len(ratings))\n"
   ]
  },
  {
   "cell_type": "code",
   "execution_count": 138,
   "id": "800fb4b1",
   "metadata": {},
   "outputs": [
    {
     "data": {
      "text/html": [
       "<div>\n",
       "<style scoped>\n",
       "    .dataframe tbody tr th:only-of-type {\n",
       "        vertical-align: middle;\n",
       "    }\n",
       "\n",
       "    .dataframe tbody tr th {\n",
       "        vertical-align: top;\n",
       "    }\n",
       "\n",
       "    .dataframe thead th {\n",
       "        text-align: right;\n",
       "    }\n",
       "</style>\n",
       "<table border=\"1\" class=\"dataframe\">\n",
       "  <thead>\n",
       "    <tr style=\"text-align: right;\">\n",
       "      <th></th>\n",
       "      <th>reviews</th>\n",
       "      <th>ratings</th>\n",
       "      <th>titles</th>\n",
       "    </tr>\n",
       "  </thead>\n",
       "  <tbody>\n",
       "    <tr>\n",
       "      <th>0</th>\n",
       "      <td>I recently purchased the Amazon Alexa 3rd Gen ...</td>\n",
       "      <td>5.0 out of 5 stars</td>\n",
       "      <td>Fantastic Addition to My Home - Amazon Alexa 3...</td>\n",
       "    </tr>\n",
       "    <tr>\n",
       "      <th>1</th>\n",
       "      <td>Nice tool to enjoy and even for elders...</td>\n",
       "      <td>4.0 out of 5 stars</td>\n",
       "      <td>Alexa awesome</td>\n",
       "    </tr>\n",
       "    <tr>\n",
       "      <th>2</th>\n",
       "      <td>I should play music from YouTube also</td>\n",
       "      <td>4.0 out of 5 stars</td>\n",
       "      <td>I is good</td>\n",
       "    </tr>\n",
       "    <tr>\n",
       "      <th>3</th>\n",
       "      <td>Keep exploring nice device.... Only thing that...</td>\n",
       "      <td>4.0 out of 5 stars</td>\n",
       "      <td>Good Product to fall in Love</td>\n",
       "    </tr>\n",
       "    <tr>\n",
       "      <th>4</th>\n",
       "      <td>Overall good product but need to add local lan...</td>\n",
       "      <td>4.0 out of 5 stars</td>\n",
       "      <td>Product is good</td>\n",
       "    </tr>\n",
       "  </tbody>\n",
       "</table>\n",
       "</div>"
      ],
      "text/plain": [
       "                                             reviews             ratings  \\\n",
       "0  I recently purchased the Amazon Alexa 3rd Gen ...  5.0 out of 5 stars   \n",
       "1          Nice tool to enjoy and even for elders...  4.0 out of 5 stars   \n",
       "2              I should play music from YouTube also  4.0 out of 5 stars   \n",
       "3  Keep exploring nice device.... Only thing that...  4.0 out of 5 stars   \n",
       "4  Overall good product but need to add local lan...  4.0 out of 5 stars   \n",
       "\n",
       "                                              titles  \n",
       "0  Fantastic Addition to My Home - Amazon Alexa 3...  \n",
       "1                                      Alexa awesome  \n",
       "2                                          I is good  \n",
       "3                       Good Product to fall in Love  \n",
       "4                                    Product is good  "
      ]
     },
     "execution_count": 138,
     "metadata": {},
     "output_type": "execute_result"
    }
   ],
   "source": [
    "import pandas as pd\n",
    "df = pd.DataFrame()\n",
    "df['reviews'] = reviews\n",
    "df['ratings'] = ratings\n",
    "df['titles'] = titlesm\n",
    "df.head()"
   ]
  }
 ],
 "metadata": {
  "kernelspec": {
   "display_name": "Python 3",
   "language": "python",
   "name": "python3"
  },
  "language_info": {
   "codemirror_mode": {
    "name": "ipython",
    "version": 3
   },
   "file_extension": ".py",
   "mimetype": "text/x-python",
   "name": "python",
   "nbconvert_exporter": "python",
   "pygments_lexer": "ipython3",
   "version": "3.9.16"
  }
 },
 "nbformat": 4,
 "nbformat_minor": 5
}
